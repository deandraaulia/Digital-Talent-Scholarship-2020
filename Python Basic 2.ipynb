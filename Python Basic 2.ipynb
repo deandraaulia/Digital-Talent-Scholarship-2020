{
    "cells": [
        {
            "metadata": {
                "collapsed": true
            },
            "cell_type": "markdown",
            "source": "#Python Basic 2"
        },
        {
            "metadata": {},
            "cell_type": "code",
            "source": "i=6\ni>5",
            "execution_count": 1,
            "outputs": [
                {
                    "output_type": "execute_result",
                    "execution_count": 1,
                    "data": {
                        "text/plain": "True"
                    },
                    "metadata": {}
                }
            ]
        },
        {
            "metadata": {},
            "cell_type": "code",
            "source": "\"AC/DC\"==\"Hello World\"",
            "execution_count": 2,
            "outputs": [
                {
                    "output_type": "execute_result",
                    "execution_count": 2,
                    "data": {
                        "text/plain": "False"
                    },
                    "metadata": {}
                }
            ]
        },
        {
            "metadata": {},
            "cell_type": "code",
            "source": "'ACDC'=='ACDC'",
            "execution_count": 3,
            "outputs": [
                {
                    "output_type": "execute_result",
                    "execution_count": 3,
                    "data": {
                        "text/plain": "True"
                    },
                    "metadata": {}
                }
            ]
        },
        {
            "metadata": {},
            "cell_type": "code",
            "source": "len('ACDC')",
            "execution_count": 4,
            "outputs": [
                {
                    "output_type": "execute_result",
                    "execution_count": 4,
                    "data": {
                        "text/plain": "4"
                    },
                    "metadata": {}
                }
            ]
        },
        {
            "metadata": {},
            "cell_type": "code",
            "source": "age=15\nif(age>18):\n    print(\"You can enter\")\nelif(age==18):\n    print(\"Still qualified\")\nelif(age>16):\n    print(\"Nearly qualified\")\nelif(age>14):\n    print(\"Far enough from qualified\")\nelse:\n    print(\"You are not qualified\")\nprint(\"Move on\")\n",
            "execution_count": 5,
            "outputs": [
                {
                    "output_type": "stream",
                    "text": "Far enough from qualified\nMove on\n",
                    "name": "stdout"
                }
            ]
        },
        {
            "metadata": {},
            "cell_type": "code",
            "source": "not(True)",
            "execution_count": 6,
            "outputs": [
                {
                    "output_type": "execute_result",
                    "execution_count": 6,
                    "data": {
                        "text/plain": "False"
                    },
                    "metadata": {}
                }
            ]
        },
        {
            "metadata": {},
            "cell_type": "code",
            "source": "not(age>20)",
            "execution_count": 7,
            "outputs": [
                {
                    "output_type": "execute_result",
                    "execution_count": 7,
                    "data": {
                        "text/plain": "True"
                    },
                    "metadata": {}
                }
            ]
        },
        {
            "metadata": {},
            "cell_type": "code",
            "source": "!whoami",
            "execution_count": 8,
            "outputs": [
                {
                    "output_type": "stream",
                    "text": "dsxuser\r\n",
                    "name": "stdout"
                }
            ]
        },
        {
            "metadata": {},
            "cell_type": "code",
            "source": "if(age==20):\n    print(\"20 years old\")\nelif(age!=21):\n    print(\"Not 21 years old\")",
            "execution_count": 9,
            "outputs": [
                {
                    "output_type": "stream",
                    "text": "Not 21 years old\n",
                    "name": "stdout"
                }
            ]
        },
        {
            "metadata": {},
            "cell_type": "code",
            "source": "True & False",
            "execution_count": 10,
            "outputs": [
                {
                    "output_type": "execute_result",
                    "execution_count": 10,
                    "data": {
                        "text/plain": "False"
                    },
                    "metadata": {}
                }
            ]
        },
        {
            "metadata": {},
            "cell_type": "code",
            "source": "False or True",
            "execution_count": 11,
            "outputs": [
                {
                    "output_type": "execute_result",
                    "execution_count": 11,
                    "data": {
                        "text/plain": "True"
                    },
                    "metadata": {}
                }
            ]
        },
        {
            "metadata": {},
            "cell_type": "code",
            "source": "age=60\nprint(age)\nif(age==20):\n    print(\"20 years old\")\nelif((age<20) & (age>10)):\n    print(\"Between 10 and 20\")\nelif(age>30 or age>40):\n    print(\"More than 30 or More than 40\")\nelse:\n    print(\"Others\")",
            "execution_count": 12,
            "outputs": [
                {
                    "output_type": "stream",
                    "text": "60\nMore than 30 or More than 40\n",
                    "name": "stdout"
                }
            ]
        },
        {
            "metadata": {},
            "cell_type": "code",
            "source": "squares=[\"red\",\"yellow\",\"green\",\"purple\",\"blue\"]\nrange(0,5)",
            "execution_count": 13,
            "outputs": [
                {
                    "output_type": "execute_result",
                    "execution_count": 13,
                    "data": {
                        "text/plain": "range(0, 5)"
                    },
                    "metadata": {}
                }
            ]
        },
        {
            "metadata": {},
            "cell_type": "code",
            "source": "squares=[\"red\",\"yellow\",\"green\",\"purple\",\"blue\"]\nfor i in range(0,5):\n    squares[i]=\"white\"\nprint(squares)",
            "execution_count": 14,
            "outputs": [
                {
                    "output_type": "stream",
                    "text": "['white', 'white', 'white', 'white', 'white']\n",
                    "name": "stdout"
                }
            ]
        },
        {
            "metadata": {},
            "cell_type": "code",
            "source": "squares=[\"red\",\"yellow\",\"green\",\"purple\",\"blue\"]\nfor square in squares:\n    print(square)\n    square=\"white\" #Tidak bisa mengubah, hanya bisa baca saja\nprint(squares)",
            "execution_count": 15,
            "outputs": [
                {
                    "output_type": "stream",
                    "text": "red\nyellow\ngreen\npurple\nblue\n['red', 'yellow', 'green', 'purple', 'blue']\n",
                    "name": "stdout"
                }
            ]
        },
        {
            "metadata": {},
            "cell_type": "code",
            "source": "squares=[\"red\",\"yellow\",\"green\",\"purple\",\"blue\"]\nfor square in squares:\n    print(square)\n    square=\"white\"\n    \nprint(squares)\n    \nprint('-----------------------')\nfor i in range(0,len(squares)):\n    squares[i]=\"white\"\n    \nprint(squares)",
            "execution_count": 16,
            "outputs": [
                {
                    "output_type": "stream",
                    "text": "red\nyellow\ngreen\npurple\nblue\n['red', 'yellow', 'green', 'purple', 'blue']\n-----------------------\n['white', 'white', 'white', 'white', 'white']\n",
                    "name": "stdout"
                }
            ]
        },
        {
            "metadata": {},
            "cell_type": "code",
            "source": "squares=[\"orange\",\"orange\",\"orange\",\"blue\",\"purple\"]\nnewsquares=[]\nprint(squares)\nprint(newsquares)\nprint('-----------------------') \ni = 0\nwhile(squares[i]==\"orange\"):\n    newsquares.append(squares[i])\n    i=i+1\nprint(squares)    \nprint(newsquares)",
            "execution_count": 18,
            "outputs": [
                {
                    "output_type": "stream",
                    "text": "['orange', 'orange', 'orange', 'blue', 'purple']\n[]\n-----------------------\n['orange', 'orange', 'orange', 'blue', 'purple']\n['orange', 'orange', 'orange']\n",
                    "name": "stdout"
                }
            ]
        },
        {
            "metadata": {},
            "cell_type": "code",
            "source": "def addfunction(a):\n    n = a + 5\n    return n\n\ndef multifunction(a,b):\n    n = a * b\n    return n",
            "execution_count": 19,
            "outputs": []
        },
        {
            "metadata": {},
            "cell_type": "code",
            "source": "z = 12\nz2 = addfunction(z)\nprint(z2)",
            "execution_count": 21,
            "outputs": [
                {
                    "output_type": "stream",
                    "text": "17\n",
                    "name": "stdout"
                }
            ]
        },
        {
            "metadata": {},
            "cell_type": "code",
            "source": "multifunction(z,z2)",
            "execution_count": 22,
            "outputs": [
                {
                    "output_type": "execute_result",
                    "execution_count": 22,
                    "data": {
                        "text/plain": "204"
                    },
                    "metadata": {}
                }
            ]
        },
        {
            "metadata": {},
            "cell_type": "code",
            "source": "ratings=[7,8,9,10,9,8,9,7,10,9]\nprint(len(ratings))\nprint(sorted(ratings))\nprint(ratings)",
            "execution_count": 23,
            "outputs": [
                {
                    "output_type": "stream",
                    "text": "10\n[7, 7, 8, 8, 9, 9, 9, 9, 10, 10]\n[7, 8, 9, 10, 9, 8, 9, 7, 10, 9]\n",
                    "name": "stdout"
                }
            ]
        },
        {
            "metadata": {},
            "cell_type": "code",
            "source": "def addfunction(a):\n    n = a + 5\n    pass #Tidak mengubah apapun\n    return n\n\ndef multifunction(a,b):\n    n = a * b\n    return n",
            "execution_count": 24,
            "outputs": []
        },
        {
            "metadata": {},
            "cell_type": "code",
            "source": "def addfunction(a):\n    n = a + 5\n    return n\n\ndef multifunction(a,b):\n    n = a * b\n    return n\n\ndef printstuff(thelist):\n    for l in thelist:\n        print(l)",
            "execution_count": 29,
            "outputs": []
        },
        {
            "metadata": {},
            "cell_type": "code",
            "source": "printstuff(ratings)",
            "execution_count": 30,
            "outputs": [
                {
                    "output_type": "stream",
                    "text": "7\n8\n9\n10\n9\n8\n9\n7\n10\n9\n",
                    "name": "stdout"
                }
            ]
        },
        {
            "metadata": {},
            "cell_type": "code",
            "source": "printstuff(ratings)\nprint('----------------')\nprintstuff(sorted(ratings))",
            "execution_count": 31,
            "outputs": [
                {
                    "output_type": "stream",
                    "text": "7\n8\n9\n10\n9\n8\n9\n7\n10\n9\n----------------\n7\n7\n8\n8\n9\n9\n9\n9\n10\n10\n",
                    "name": "stdout"
                }
            ]
        },
        {
            "metadata": {},
            "cell_type": "code",
            "source": "def addfunction(a):\n    n = a + 5\n    return n\n\ndef multifunction(a,b):\n    n = a * b\n    return n\n\ndef printstuff(thelist):\n    for l in thelist:\n        print(l)\n\ndef somefunction(s):\n    x = \"ABCD\" #scope lokal\n    print(x + s)",
            "execution_count": 32,
            "outputs": []
        },
        {
            "metadata": {},
            "cell_type": "code",
            "source": "x = \"EFGH\" #scope global\nsomefunction(\"Hello\")\nprint(x)",
            "execution_count": 36,
            "outputs": [
                {
                    "output_type": "stream",
                    "text": "ABCDHello\nEFGH\n",
                    "name": "stdout"
                }
            ]
        },
        {
            "metadata": {},
            "cell_type": "code",
            "source": "def addfunction(a):\n    n = a + 5\n    return n\n\ndef multifunction(a,b):\n    n = a * b\n    return n\n\ndef printstuff(thelist):\n    for l in thelist:\n        print(l)\n\ndef somefunction(s):\n    x = \"ABCD\" #scope lokal\n    print(x + s)\n    \ndef somefunction2(n):\n    age = 7\n    print(\"Age and n:\",str(age),\" \",str(n))",
            "execution_count": 49,
            "outputs": []
        },
        {
            "metadata": {},
            "cell_type": "code",
            "source": "x = \"EFGH\" #scope global\nsomefunction(\"Hello\")\nprint(x)\nsomefunction2(10)",
            "execution_count": 50,
            "outputs": [
                {
                    "output_type": "stream",
                    "text": "ABCDHello\nEFGH\nAge and n: 7   10\n",
                    "name": "stdout"
                }
            ]
        },
        {
            "metadata": {},
            "cell_type": "code",
            "source": "type(ratings)",
            "execution_count": 41,
            "outputs": [
                {
                    "output_type": "execute_result",
                    "execution_count": 41,
                    "data": {
                        "text/plain": "list"
                    },
                    "metadata": {}
                }
            ]
        },
        {
            "metadata": {},
            "cell_type": "code",
            "source": "ratings.sort()",
            "execution_count": 42,
            "outputs": []
        },
        {
            "metadata": {},
            "cell_type": "code",
            "source": "print(ratings)",
            "execution_count": 43,
            "outputs": [
                {
                    "output_type": "stream",
                    "text": "[7, 7, 8, 8, 9, 9, 9, 9, 10, 10]\n",
                    "name": "stdout"
                }
            ]
        },
        {
            "metadata": {},
            "cell_type": "code",
            "source": "ratings.reverse()\nprint(ratings)\nratings.pop(4)\nprint(ratings)",
            "execution_count": 53,
            "outputs": [
                {
                    "output_type": "stream",
                    "text": "[10, 10, 9, 9, 9, 8, 8, 7, 7]\n[10, 10, 9, 9, 8, 8, 7, 7]\n",
                    "name": "stdout"
                }
            ]
        },
        {
            "metadata": {},
            "cell_type": "code",
            "source": "class Rectangle(object):\n    \n    def __init__ (self, color, height, weight):\n        self.color = color\n        self.height = height\n        self.weight = weight\n        \n    def draw(self):\n        print(\"Drawing rectangle\")",
            "execution_count": 79,
            "outputs": []
        },
        {
            "metadata": {},
            "cell_type": "code",
            "source": "rect1 = Rectangle(\"blue\",2.4,3.6)\ntype(rect1)\nrect1.draw()\nprint(rect1.color)\nprint(rect1.height)\nprint(rect1.weight)",
            "execution_count": 80,
            "outputs": [
                {
                    "output_type": "stream",
                    "text": "Drawing rectangle\nblue\n2.4\n3.6\n",
                    "name": "stdout"
                }
            ]
        },
        {
            "metadata": {},
            "cell_type": "code",
            "source": "class Rectangle(object):\n    \n    def __init__ (self, color, height, weight):\n        self.color = color\n        self.height = height\n        self.weight = weight\n        \n    def draw(self):\n        print(\"Drawing rectangle\")\n    \n    def completedraw(self):\n        print('Drawing rectangle color',self.color, 'height',self.height, 'weight',self.weight)",
            "execution_count": 81,
            "outputs": []
        },
        {
            "metadata": {},
            "cell_type": "code",
            "source": "rect1 = Rectangle(\"blue\",2.4,3.6)\ntype(rect1)\nrect1.draw()\nrect2 = Rectangle(\"yellow\",5,4.5)\nrect2.draw()\nrect2.completedraw()\nrect1.completedraw()\nrect1.color=\"red\"\nrect1.completedraw()",
            "execution_count": 82,
            "outputs": [
                {
                    "output_type": "stream",
                    "text": "Drawing rectangle\nDrawing rectangle\nDrawing rectangle color yellow height 5 weight 4.5\nDrawing rectangle color blue height 2.4 weight 3.6\nDrawing rectangle color red height 2.4 weight 3.6\n",
                    "name": "stdout"
                }
            ]
        },
        {
            "metadata": {},
            "cell_type": "code",
            "source": "",
            "execution_count": null,
            "outputs": []
        }
    ],
    "metadata": {
        "kernelspec": {
            "name": "python3",
            "display_name": "Python 3.6",
            "language": "python"
        },
        "language_info": {
            "name": "python",
            "version": "3.6.9",
            "mimetype": "text/x-python",
            "codemirror_mode": {
                "name": "ipython",
                "version": 3
            },
            "pygments_lexer": "ipython3",
            "nbconvert_exporter": "python",
            "file_extension": ".py"
        }
    },
    "nbformat": 4,
    "nbformat_minor": 1
}